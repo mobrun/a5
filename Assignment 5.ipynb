{
 "cells": [
  {
   "cell_type": "code",
   "execution_count": null,
   "metadata": {},
   "outputs": [],
   "source": [
    "from census import Census\n",
    "from us import states\n",
    "import pandas as pd\n",
    "import censusdata\n",
    "import numpy as np\n",
    "import csv\n",
    "import seaborn as sns"
   ]
  },
  {
   "cell_type": "markdown",
   "metadata": {},
   "source": [
    "Input information about groups, outcomes, year, state,etc"
   ]
  },
  {
   "cell_type": "code",
   "execution_count": null,
   "metadata": {},
   "outputs": [],
   "source": [
    "NGroups = input('Enter number of groups: ')\n",
    "NOutcomes = input('Enter number of outcomes: ')\n",
    "Yr = input('Enter year:')\n",
    "Statecode = input('Enter state code : ')\n",
    "ACS = input ('Enter acs5 or acs1 : ')"
   ]
  },
  {
   "cell_type": "code",
   "execution_count": null,
   "metadata": {},
   "outputs": [],
   "source": [
    "#Converting strings into integers\n",
    "NGroups = int(NGroups)\n",
    "NOutcomes = int(NOutcomes)\n",
    "Yr = int(Yr)"
   ]
  },
  {
   "cell_type": "markdown",
   "metadata": {},
   "source": [
    "Open the CensusVariable.csv and Countycode.txt file   \n",
    "If you are performing this analysis more than once, you should change the file names"
   ]
  },
  {
   "cell_type": "code",
   "execution_count": null,
   "metadata": {},
   "outputs": [],
   "source": [
    "with open('CensusVariable.csv', 'r') as f:\n",
    "    reader = csv.reader(f)\n",
    "    Your_List = list(reader)\n",
    "    \n",
    "#Create a list of variable names\n",
    "CensusVariableList = [val for sublist in Your_List for val in sublist]\n",
    "print ('Census Variable List\\n')\n",
    "print (CensusVariableList)\n",
    "print ('-'*50)\n",
    "\n",
    "file = open('Countycode.txt', 'r') \n",
    "for line in file:\n",
    "    CountyCode = line   \n",
    "    \n",
    "print ('Country Code List\\n')\n",
    "print(CountyCode)\n"
   ]
  },
  {
   "cell_type": "markdown",
   "metadata": {},
   "source": [
    "Download ACS data for different group categories"
   ]
  },
  {
   "cell_type": "code",
   "execution_count": null,
   "metadata": {},
   "outputs": [],
   "source": [
    "#Depending on the number of groups comment or uncomment code to download ACS data for each group\n",
    "#If you have more than 8 groups, you can copy and change the variable names\n",
    "# Use CTRL + / to comment or uncomment\n",
    "\n",
    "Group1 = censusdata.download(ACS, Yr,\n",
    "                             censusdata.censusgeo([('state', Statecode), ('county', CountyCode)]),\n",
    "                             CensusVariableList[0:NOutcomes])\n",
    "Group2 = censusdata.download(ACS, Yr,\n",
    "                             censusdata.censusgeo([('state', Statecode), ('county', CountyCode)]),\n",
    "                             CensusVariableList[NOutcomes:NOutcomes*2])\n",
    "Group3 = censusdata.download(ACS, Yr,\n",
    "                             censusdata.censusgeo([('state', Statecode), ('county', CountyCode)]),\n",
    "                             CensusVariableList[NOutcomes*2:NOutcomes*3])\n",
    "Group4 = censusdata.download(ACS, Yr,\n",
    "                             censusdata.censusgeo([('state', Statecode), ('county', CountyCode)]),\n",
    "                             CensusVariableList[NOutcomes*3:NOutcomes*4])\n",
    "Group5 = censusdata.download(ACS, Yr,\n",
    "                             censusdata.censusgeo([('state', Statecode), ('county', CountyCode)]),\n",
    "                             CensusVariableList[NOutcomes*4:NOutcomes*5])\n",
    "Group6 = censusdata.download(ACS, Yr,\n",
    "                             censusdata.censusgeo([('state', Statecode), ('county', CountyCode)]),\n",
    "                             CensusVariableList[NOutcomes*5:NOutcomes*6])\n",
    "Group7 = censusdata.download(ACS, Yr,\n",
    "                             censusdata.censusgeo([('state', Statecode), ('county', CountyCode)]),\n",
    "                             CensusVariableList[NOutcomes*6:NOutcomes*7])\n",
    "# #Group8 = censusdata.download(ACS, Yr,\n",
    "#                              censusdata.censusgeo([('state', Statecode), ('county', CountyCode)]),\n",
    "#                              CensusVariableList[NOutcomes*7:NOutcomes*8])\n"
   ]
  },
  {
   "cell_type": "markdown",
   "metadata": {},
   "source": [
    "Rename Column names"
   ]
  },
  {
   "cell_type": "code",
   "execution_count": null,
   "metadata": {},
   "outputs": [],
   "source": [
    "#Depending on the number of groups comment or uncomment code\n",
    "# Use CTRL + / to comment or uncomment\n",
    "#If you have more than 8 groups, you can copy and change the variable names\n",
    "\n",
    "Group1.columns = np.arange(len(Group1.columns))\n",
    "Group2.columns = np.arange(len(Group2.columns))\n",
    "Group3.columns = np.arange(len(Group3.columns))\n",
    "Group4.columns = np.arange(len(Group4.columns))\n",
    "Group5.columns = np.arange(len(Group5.columns))\n",
    "Group6.columns = np.arange(len(Group6.columns))\n",
    "Group7.columns = np.arange(len(Group7.columns))\n",
    "# Group8.columns = np.arange(len(Group8.columns))\n"
   ]
  },
  {
   "cell_type": "markdown",
   "metadata": {},
   "source": [
    "Find out the sum of each dataframe and add as a row at the end"
   ]
  },
  {
   "cell_type": "code",
   "execution_count": null,
   "metadata": {},
   "outputs": [],
   "source": [
    "#Depending on the number of groups comment or uncomment code\n",
    "# Use CTRL + / to comment or uncomment\n",
    "#If you have more than 8 groups, you can copy and change the variable names\n",
    "\n",
    "Group1.loc['Total_Group1'] = Group1.sum()\n",
    "Group2.loc['Total_Group2'] = Group2.sum()\n",
    "Group3.loc['Total_Group3'] = Group3.sum()\n",
    "Group4.loc['Total_Group4'] = Group4.sum()\n",
    "Group5.loc['Total_Group5'] = Group5.sum()\n",
    "Group6.loc['Total_Group6'] = Group6.sum()\n",
    "Group7.loc['Total_Group7'] = Group7.sum()\n",
    "# Group8.loc['Total_Group8'] = Group8.sum()"
   ]
  },
  {
   "cell_type": "markdown",
   "metadata": {},
   "source": [
    "Create a new dataframe with all the totals"
   ]
  },
  {
   "cell_type": "code",
   "execution_count": null,
   "metadata": {},
   "outputs": [],
   "source": [
    "#Depending on the number of groups comment or uncomment code\n",
    "# Use CTRL + / to comment or uncomment\n",
    "#If you have more than 8 groups, you can copy and change the variable names\n",
    "\n",
    "Analysis_Step_1 = pd.DataFrame(columns=[])\n",
    "Analysis_Step_1 = Analysis_Step_1.append(Group1.loc['Total_Group1'])\n",
    "Analysis_Step_1 = Analysis_Step_1.append(Group2.loc['Total_Group2'])\n",
    "Analysis_Step_1 = Analysis_Step_1.append(Group3.loc['Total_Group3'])\n",
    "Analysis_Step_1 = Analysis_Step_1.append(Group4.loc['Total_Group4'])\n",
    "Analysis_Step_1 = Analysis_Step_1.append(Group5.loc['Total_Group5'])\n",
    "Analysis_Step_1 = Analysis_Step_1.append(Group6.loc['Total_Group6'])\n",
    "Analysis_Step_1 = Analysis_Step_1.append(Group7.loc['Total_Group7'])\n",
    "# Analysis_Step_1 = Analysis_Step_1.append(Group8.loc['Total_Group8'])\n",
    "Analysis_Step_1"
   ]
  },
  {
   "cell_type": "markdown",
   "metadata": {},
   "source": [
    "Transpose the matrix"
   ]
  },
  {
   "cell_type": "code",
   "execution_count": null,
   "metadata": {},
   "outputs": [],
   "source": [
    "Analysis_Step_2 = Analysis_Step_1.transpose()\n",
    "Analysis_Step_2"
   ]
  },
  {
   "cell_type": "markdown",
   "metadata": {},
   "source": [
    "Calculate ratio  \n",
    "\n",
    "'lambda' function - https://dbader.org/blog/python-lambda-functions"
   ]
  },
  {
   "cell_type": "code",
   "execution_count": null,
   "metadata": {},
   "outputs": [],
   "source": [
    "Analysis_Step_3 = Analysis_Step_2.apply(lambda x: x/x.sum(), axis=1)\n",
    "Analysis_Step_3.style.set_precision(2)"
   ]
  },
  {
   "cell_type": "markdown",
   "metadata": {},
   "source": [
    "Calculate deviation"
   ]
  },
  {
   "cell_type": "code",
   "execution_count": null,
   "metadata": {},
   "outputs": [],
   "source": [
    "Analysis_Step_4 =  Analysis_Step_3 - Analysis_Step_3.iloc[0]\n",
    "Analysis_Step_4\n",
    "Analysis_Step_4.style.set_precision(2) #Sets the precision of numbers"
   ]
  },
  {
   "cell_type": "markdown",
   "metadata": {},
   "source": [
    "Calculate Skew"
   ]
  },
  {
   "cell_type": "code",
   "execution_count": null,
   "metadata": {},
   "outputs": [],
   "source": [
    "cm = sns.light_palette(\"green\", as_cmap=True)\n",
    "Analysis_Step_5 = abs(Analysis_Step_4.multiply((Analysis_Step_2.sum(axis=1)/Analysis_Step_2.iloc[0].sum()), axis=0))\n",
    "Skew = Analysis_Step_5.values.sum()/2\n",
    "print (\"Skew : \", Skew)\n",
    "Analysis_Step_5 = Analysis_Step_5.style.background_gradient(cmap=cm)   #to colour the table in gradients\n",
    "Analysis_Step_5"
   ]
  }
 ],
 "metadata": {
  "kernelspec": {
   "display_name": "Python 3",
   "language": "python",
   "name": "python3"
  },
  "language_info": {
   "codemirror_mode": {
    "name": "ipython",
    "version": 3
   },
   "file_extension": ".py",
   "mimetype": "text/x-python",
   "name": "python",
   "nbconvert_exporter": "python",
   "pygments_lexer": "ipython3",
   "version": "3.6.5"
  }
 },
 "nbformat": 4,
 "nbformat_minor": 2
}
