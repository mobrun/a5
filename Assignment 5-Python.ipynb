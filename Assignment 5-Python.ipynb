{
 "cells": [
  {
   "cell_type": "code",
   "execution_count": null,
   "metadata": {},
   "outputs": [],
   "source": [
    "from census import Census\n",
    "from us import states\n",
    "import pandas as pd\n",
    "import censusdata\n",
    "import numpy as np\n",
    "import csv\n",
    "import seaborn as sns"
   ]
  },
  {
   "cell_type": "markdown",
   "metadata": {},
   "source": [
    "Input information about groups, outcomes, year, state,etc"
   ]
  },
  {
   "cell_type": "code",
   "execution_count": null,
   "metadata": {},
   "outputs": [],
   "source": [
    "NGroups = input('Enter number of groups: ')\n",
    "NOutcomes = input('Enter number of outcomes: ')\n",
    "Yr = input('Enter year:')\n",
    "Statecode = input('Enter state code : ')\n",
    "ACS = input ('Enter acs5 or acs1 : ')"
   ]
  },
  {
   "cell_type": "code",
   "execution_count": null,
   "metadata": {},
   "outputs": [],
   "source": [
    "#Converting strings into integers\n",
    "NGroups = int(NGroups)\n",
    "NOutcomes = int(NOutcomes)\n",
    "Yr = int(Yr)"
   ]
  },
  {
   "cell_type": "markdown",
   "metadata": {},
   "source": [
    "Open the CensusVariable.csv and Countycode.txt file   \n",
    "If you are performing this analysis for more than once, you should change the file names"
   ]
  },
  {
   "cell_type": "code",
   "execution_count": null,
   "metadata": {},
   "outputs": [],
   "source": [
    "with open('CensusVariable2.csv', 'r') as f:\n",
    "    reader = csv.reader(f)\n",
    "    Your_List = list(reader)\n",
    "    \n",
    "#Create a list of variable names\n",
    "CensusVariableList = [val for sublist in Your_List for val in sublist]\n",
    "print ('Census Variable List\\n')\n",
    "print (CensusVariableList)\n",
    "print ('-'*50)\n",
    "\n",
    "file = open('Countycode.txt', 'r') \n",
    "for line in file:\n",
    "    CountyCode = line   \n",
    "    \n",
    "print ('Country Code List\\n')\n",
    "print(CountyCode)\n"
   ]
  },
  {
   "cell_type": "markdown",
   "metadata": {},
   "source": [
    "Download ACS data for different group categories  \n",
    "Change column names  \n",
    "Add row which is the sum of the table  \n",
    "Append the row into a masterfile  \n",
    "\n",
    "Repeat the above steps using a while loop for all the groups  "
   ]
  },
  {
   "cell_type": "code",
   "execution_count": null,
   "metadata": {},
   "outputs": [],
   "source": [
    "i=0\n",
    "Analysis_Step_1 = pd.DataFrame(columns=[])\n",
    "while i < NGroups:\n",
    "    \n",
    "    Group1 = censusdata.download(ACS, Yr,\n",
    "                             censusdata.censusgeo([('state', Statecode), ('county', CountyCode)]),\n",
    "                             CensusVariableList[NOutcomes*i:NOutcomes*(i+1)])\n",
    "    Group1.columns = np.arange(len(Group1.columns))\n",
    "    Column_name = 'Group' + str(i+1)\n",
    "    Group1.loc[Column_name] = Group1.sum()\n",
    "    Analysis_Step_1 = Analysis_Step_1.append(Group1.loc[Column_name])\n",
    "    i = i+1\n",
    "    \n",
    "Analysis_Step_1\n",
    "    \n",
    "    "
   ]
  },
  {
   "cell_type": "markdown",
   "metadata": {},
   "source": [
    "Transpose the matrix"
   ]
  },
  {
   "cell_type": "code",
   "execution_count": null,
   "metadata": {},
   "outputs": [],
   "source": [
    "Analysis_Step_2 = Analysis_Step_1.transpose()\n",
    "Analysis_Step_2"
   ]
  },
  {
   "cell_type": "markdown",
   "metadata": {},
   "source": [
    "Calculate ratio  \n",
    "\n",
    "'lambda' function - https://dbader.org/blog/python-lambda-functions"
   ]
  },
  {
   "cell_type": "code",
   "execution_count": null,
   "metadata": {},
   "outputs": [],
   "source": [
    "Analysis_Step_3 = Analysis_Step_2.apply(lambda x: x/x.sum(), axis=1)\n",
    "Analysis_Step_3.style.set_precision(2)"
   ]
  },
  {
   "cell_type": "markdown",
   "metadata": {},
   "source": [
    "Calculate deviation"
   ]
  },
  {
   "cell_type": "code",
   "execution_count": null,
   "metadata": {},
   "outputs": [],
   "source": [
    "Analysis_Step_4 =  Analysis_Step_3 - Analysis_Step_3.iloc[0]\n",
    "Analysis_Step_4\n",
    "Analysis_Step_4.style.set_precision(2) #Sets the precision of numbers"
   ]
  },
  {
   "cell_type": "markdown",
   "metadata": {},
   "source": [
    "Calculate Skew"
   ]
  },
  {
   "cell_type": "code",
   "execution_count": null,
   "metadata": {},
   "outputs": [],
   "source": [
    "cm = sns.light_palette(\"green\", as_cmap=True)\n",
    "Analysis_Step_5 = abs(Analysis_Step_4.multiply((Analysis_Step_2.sum(axis=1)/Analysis_Step_2.iloc[0].sum()), axis=0))\n",
    "Skew = Analysis_Step_5.values.sum()/2\n",
    "print (\"Skew : \", Skew)\n",
    "Analysis_Step_5 = Analysis_Step_5.style.background_gradient(cmap=cm)   #to colour the table in gradients\n",
    "Analysis_Step_5"
   ]
  }
 ],
 "metadata": {
  "kernelspec": {
   "display_name": "Python 3",
   "language": "python",
   "name": "python3"
  },
  "language_info": {
   "codemirror_mode": {
    "name": "ipython",
    "version": 3
   },
   "file_extension": ".py",
   "mimetype": "text/x-python",
   "name": "python",
   "nbconvert_exporter": "python",
   "pygments_lexer": "ipython3",
   "version": "3.6.5"
  }
 },
 "nbformat": 4,
 "nbformat_minor": 2
}
